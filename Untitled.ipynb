{
 "cells": [
  {
   "cell_type": "code",
   "execution_count": 1,
   "id": "962f30ef-dd36-4d6e-934c-1c465e387d0a",
   "metadata": {},
   "outputs": [
    {
     "name": "stdout",
     "output_type": "stream",
     "text": [
      "Defined constant something"
     ]
    }
   ],
   "source": [
    "const something = 3"
   ]
  },
  {
   "cell_type": "code",
   "execution_count": 2,
   "id": "05715099-b674-4774-9960-511050b881dd",
   "metadata": {},
   "outputs": [
    {
     "name": "stdout",
     "output_type": "stream",
     "text": [
      "Defined function mult"
     ]
    }
   ],
   "source": [
    "fn mult(x, y) { x * y }"
   ]
  },
  {
   "cell_type": "code",
   "execution_count": 3,
   "id": "1c229332-6415-4199-8093-da38d0774a8c",
   "metadata": {},
   "outputs": [
    {
     "name": "stdout",
     "output_type": "stream",
     "text": [
      "6 : Int"
     ]
    }
   ],
   "source": [
    "mult(something, 2)"
   ]
  },
  {
   "cell_type": "code",
   "execution_count": 4,
   "id": "9bdaadd6-a174-4332-b6a6-0f2ad0516707",
   "metadata": {},
   "outputs": [
    {
     "name": "stdout",
     "output_type": "stream",
     "text": [
      "Defined constant something"
     ]
    }
   ],
   "source": [
    "const something = \"array\""
   ]
  },
  {
   "cell_type": "code",
   "execution_count": 5,
   "id": "aa3d3116-c75c-437f-92e5-b677939d3d74",
   "metadata": {},
   "outputs": [
    {
     "name": "stdout",
     "output_type": "stream",
     "text": [
      "\u001b]8;;https://aiken-lang.org/language-tour/primitive-types\u001b\\\u001b[31m        \u001b[1m\u001b[31mError\u001b[39m\u001b[0m \u001b[31maiken::check::type_mismatch\u001b[39m \u001b[0m\u001b[36;1;4m(link)\u001b[0m\u001b]8;;\u001b\\\n",
      "\n",
      "  \u001b[31m×\u001b[0m REPL evaluation failed\n",
      "\u001b[31m  ├─▶ \u001b[0mWhile trying to make sense of your code...\n",
      "\u001b[31m  ╰─▶ \u001b[0mI struggled to unify the types of two expressions.\n",
      "\u001b[31m      \u001b[0m\n",
      "   ╭─[\u001b[36;1;4m/tmp/.tmphBqzWT/lib/repl.ak:7:29\u001b[0m]\n",
      " \u001b[2m6\u001b[0m │ \n",
      " \u001b[2m7\u001b[0m │ pub fn repl_eval_1() { mult(something, 2) }\n",
      "   · \u001b[35;1m                            ────┬────\u001b[0m\n",
      "   ·                                 \u001b[35;1m╰── \u001b[35;1mexpected type 'Int'\u001b[0m\u001b[0m\n",
      "   ╰────\n",
      "\u001b[36m  help: \u001b[0mI am inferring the following type:\n",
      "        \n",
      "            \u001b[32mInt\u001b[39m\n",
      "        \n",
      "        but I found an expression with a different type:\n",
      "        \n",
      "            \u001b[31mByteArray\u001b[39m\n",
      "        \n",
      "        Either, add type-annotation to improve my inference, or adjust the expression to have the expected type.\n"
     ]
    }
   ],
   "source": [
    "mult(something, 2)"
   ]
  },
  {
   "cell_type": "code",
   "execution_count": null,
   "id": "0ba2218c-6bcb-4847-b211-9b663fce8dbc",
   "metadata": {},
   "outputs": [],
   "source": []
  }
 ],
 "metadata": {
  "kernelspec": {
   "display_name": "Aiken",
   "language": "aiken",
   "name": "aiken"
  },
  "language_info": {
   "codemirror_mode": "aiken",
   "file_extension": ".ak",
   "mimetype": "text/x-aiken",
   "name": "aiken",
   "nbconvert_exporter": "script",
   "pygments_lexer": "text",
   "version": "1.0.0"
  }
 },
 "nbformat": 4,
 "nbformat_minor": 5
}
