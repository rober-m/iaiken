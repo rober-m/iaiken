{
 "cells": [
  {
   "cell_type": "code",
   "execution_count": 1,
   "id": "962f30ef-dd36-4d6e-934c-1c465e387d0a",
   "metadata": {},
   "outputs": [
    {
     "data": {
      "text/plain": [
       "Defined constant something"
      ],
      "text/x-aiken": [
       "Defined constant something"
      ]
     },
     "metadata": {},
     "output_type": "display_data"
    }
   ],
   "source": [
    "const something = 3"
   ]
  },
  {
   "cell_type": "code",
   "execution_count": 2,
   "id": "05715099-b674-4774-9960-511050b881dd",
   "metadata": {},
   "outputs": [
    {
     "data": {
      "text/plain": [
       "Defined function mult"
      ],
      "text/x-aiken": [
       "Defined function mult"
      ]
     },
     "metadata": {},
     "output_type": "display_data"
    }
   ],
   "source": [
    "fn mult(x, y) { x * y }"
   ]
  },
  {
   "cell_type": "code",
   "execution_count": 3,
   "id": "1c229332-6415-4199-8093-da38d0774a8c",
   "metadata": {
    "scrolled": true
   },
   "outputs": [
    {
     "data": {
      "text/plain": [
       "6 : Int"
      ],
      "text/x-aiken": [
       "6 : Int"
      ]
     },
     "metadata": {},
     "output_type": "display_data"
    }
   ],
   "source": [
    "mult(something, 2)"
   ]
  },
  {
   "cell_type": "code",
   "execution_count": null,
   "id": "4851b3bc-8805-41f4-b2e8-a76298a659f3",
   "metadata": {},
   "outputs": [],
   "source": []
  },
  {
   "cell_type": "code",
   "execution_count": 4,
   "id": "9bdaadd6-a174-4332-b6a6-0f2ad0516707",
   "metadata": {},
   "outputs": [
    {
     "data": {
      "text/plain": [
       "Defined constant something"
      ]
     },
     "execution_count": 4,
     "metadata": {},
     "output_type": "execute_result"
    }
   ],
   "source": [
    "const something = \"array\""
   ]
  },
  {
   "cell_type": "code",
   "execution_count": 5,
   "id": "aa3d3116-c75c-437f-92e5-b677939d3d74",
   "metadata": {},
   "outputs": [
    {
     "data": {
      "text/plain": [
       "6 : Int"
      ]
     },
     "execution_count": 5,
     "metadata": {},
     "output_type": "execute_result"
    }
   ],
   "source": [
    "mult(3, 2)"
   ]
  },
  {
   "cell_type": "code",
   "execution_count": 6,
   "id": "0ba2218c-6bcb-4847-b211-9b663fce8dbc",
   "metadata": {},
   "outputs": [
    {
     "name": "stdout",
     "output_type": "stream",
     "text": [
      "helllo\n"
     ]
    }
   ],
   "source": [
    "print(\"helllo\")"
   ]
  },
  {
   "cell_type": "code",
   "execution_count": null,
   "id": "31725363-70c9-4a78-b448-8fb019f1579d",
   "metadata": {},
   "outputs": [],
   "source": []
  }
 ],
 "metadata": {
  "kernelspec": {
   "display_name": "Aiken",
   "language": "aiken",
   "name": "aiken"
  },
  "language_info": {
   "codemirror_mode": "aiken",
   "file_extension": ".ak",
   "mimetype": "text/x-aiken",
   "name": "aiken",
   "nbconvert_exporter": "script",
   "pygments_lexer": "aiken",
   "version": "0.0.1"
  }
 },
 "nbformat": 4,
 "nbformat_minor": 5
}
