{
 "cells": [
  {
   "cell_type": "code",
   "execution_count": null,
   "id": "962f30ef-dd36-4d6e-934c-1c465e387d0a",
   "metadata": {},
   "outputs": [],
   "source": []
  }
 ],
 "metadata": {
  "kernelspec": {
   "display_name": "",
   "name": ""
  },
  "language_info": {
   "name": ""
  }
 },
 "nbformat": 4,
 "nbformat_minor": 5
}
