{
 "cells": [
  {
   "cell_type": "code",
   "execution_count": 1,
   "id": "962f30ef-dd36-4d6e-934c-1c465e387d0a",
   "metadata": {},
   "outputs": [],
   "source": [
    "let value =3;"
   ]
  },
  {
   "cell_type": "code",
   "execution_count": 1,
   "id": "05715099-b674-4774-9960-511050b881dd",
   "metadata": {},
   "outputs": [],
   "source": [
    "fn name() {}"
   ]
  },
  {
   "cell_type": "code",
   "execution_count": null,
   "id": "1c229332-6415-4199-8093-da38d0774a8c",
   "metadata": {},
   "outputs": [],
   "source": []
  }
 ],
 "metadata": {
  "kernelspec": {
   "display_name": "Aiken",
   "language": "aiken",
   "name": "aiken"
  },
  "language_info": {
   "codemirror_mode": "aiken",
   "file_extension": ".ak",
   "mimetype": "text/x-aiken",
   "name": "aiken",
   "nbconvert_exporter": "script",
   "pygments_lexer": "text",
   "version": "1.0.0"
  }
 },
 "nbformat": 4,
 "nbformat_minor": 5
}
